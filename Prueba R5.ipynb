{
 "cells": [
  {
   "cell_type": "markdown",
   "id": "4f586b37",
   "metadata": {},
   "source": [
    "<img src=\"https://techla.pro/wp-content/uploads/2022/01/r5.png\" width=\"240\" height=\"240\" align=\"right\"/>"
   ]
  },
  {
   "cell_type": "markdown",
   "id": "57a40125",
   "metadata": {},
   "source": [
    "<center><h1>Grupo R5</header1></center>\n",
    "<center><h>Prueba de selección: Reducir perdidas por fraude en las reclamaciones de siniestro</header2></center>"
   ]
  },
  {
   "cell_type": "markdown",
   "id": "69d92e89",
   "metadata": {},
   "source": [
    "Presentado por: Daniela Gómez Sanchez  <br>\n",
    "Fecha: 15/08/2022"
   ]
  },
  {
   "cell_type": "markdown",
   "id": "5e8f3235",
   "metadata": {},
   "source": [
    "## Importación de librerias necesarias"
   ]
  },
  {
   "cell_type": "code",
   "execution_count": 310,
   "id": "ef4d949d",
   "metadata": {},
   "outputs": [],
   "source": [
    "import psycopg2\n",
    "import pandas as pd\n",
    "import dtale\n",
    "import numpy as np\n",
    "import seaborn as sns\n",
    "import matplotlib\n",
    "matplotlib.use('TkAgg')\n",
    "import matplotlib.pyplot as plt\n",
    "from pandas_profiling import ProfileReport\n",
    "\n",
    "#### Modelo\n",
    "import category_encoders as ce\n",
    "from sklearn.preprocessing import LabelEncoder\n",
    "from sklearn.model_selection import train_test_split\n",
    "from sklearn.feature_selection import SelectKBest\n",
    "from sklearn.feature_selection import f_regression\n",
    "from sklearn import tree\n",
    "from sklearn.tree import plot_tree\n",
    "from sklearn.ensemble import RandomForestClassifier\n",
    "from sklearn.metrics import confusion_matrix, ConfusionMatrixDisplay, classification_report, accuracy_score, precision_score, recall_score, f1_score\n",
    "from sklearn.model_selection import train_test_split, cross_val_score, GridSearchCV"
   ]
  },
  {
   "cell_type": "markdown",
   "id": "a5fa361b",
   "metadata": {},
   "source": [
    "## Conección a base de datos postgres"
   ]
  },
  {
   "cell_type": "code",
   "execution_count": 103,
   "id": "a25c947b",
   "metadata": {},
   "outputs": [
    {
     "name": "stdout",
     "output_type": "stream",
     "text": [
      "Database opened successfully\n"
     ]
    }
   ],
   "source": [
    "con = psycopg2.connect(database=\"postgres\", user=\"postgres\", password=\"\", host=\"localhost\", port=\"5432\")\n",
    "print(\"Database opened successfully\")"
   ]
  },
  {
   "cell_type": "code",
   "execution_count": 104,
   "id": "ba7d32cd",
   "metadata": {},
   "outputs": [],
   "source": [
    "#Utilizar cursor\n",
    "cursor=con.cursor()"
   ]
  },
  {
   "cell_type": "code",
   "execution_count": 105,
   "id": "087868f1",
   "metadata": {},
   "outputs": [],
   "source": [
    "#Creaciión de sentencia\n",
    "sql=\"SELECT monthh, Make, AccidentArea, DayOfWeekClaimed, MonthClaimed, WeekOfMonthClaimed, Age, Fault, PolicyType, VehicleCategory, VehiclePrice, FraudFound_P, Deductible, Days_Policy_Accident, Days_Policy_Claim, PastNumberOfClaims, AgeOfVehicle, AgeOfPolicyHolder, PoliceReportFiled, AgentType, NumberOfSuppliments, NumberOfCars, Yearr, BasePolicy FROM fraudes\""
   ]
  },
  {
   "cell_type": "code",
   "execution_count": 106,
   "id": "f95603b7",
   "metadata": {},
   "outputs": [],
   "source": [
    "#uso del metodo execute\n",
    "cursor.execute(sql)"
   ]
  },
  {
   "cell_type": "code",
   "execution_count": 107,
   "id": "e300b3aa",
   "metadata": {},
   "outputs": [
    {
     "name": "stderr",
     "output_type": "stream",
     "text": [
      "IOPub data rate exceeded.\n",
      "The notebook server will temporarily stop sending output\n",
      "to the client in order to avoid crashing it.\n",
      "To change this limit, set the config variable\n",
      "`--NotebookApp.iopub_data_rate_limit`.\n",
      "\n",
      "Current values:\n",
      "NotebookApp.iopub_data_rate_limit=1000000.0 (bytes/sec)\n",
      "NotebookApp.rate_limit_window=3.0 (secs)\n",
      "\n"
     ]
    }
   ],
   "source": [
    "#mostrar resultados\n",
    "registros=cursor.fetchall()\n",
    "print(registros)"
   ]
  },
  {
   "cell_type": "code",
   "execution_count": 102,
   "id": "967fd368",
   "metadata": {},
   "outputs": [],
   "source": [
    "#Cerrar conexiones\n",
    "cursor.close()\n",
    "con.close()"
   ]
  },
  {
   "cell_type": "markdown",
   "id": "e7692eef",
   "metadata": {},
   "source": [
    "## Tratamiento de Base"
   ]
  },
  {
   "cell_type": "markdown",
   "id": "134684be",
   "metadata": {},
   "source": [
    "### conversión de base a data frame"
   ]
  },
  {
   "cell_type": "code",
   "execution_count": 112,
   "id": "3f9cddfd",
   "metadata": {},
   "outputs": [
    {
     "name": "stderr",
     "output_type": "stream",
     "text": [
      "C:\\Users\\Holmes\\AppData\\Local\\Programs\\Python\\Python310\\lib\\site-packages\\pandas\\io\\sql.py:761: UserWarning: pandas only support SQLAlchemy connectable(engine/connection) ordatabase string URI or sqlite3 DBAPI2 connectionother DBAPI2 objects are not tested, please consider using SQLAlchemy\n",
      "  warnings.warn(\n"
     ]
    }
   ],
   "source": [
    "df = pd.read_sql_query(sql,con=con)"
   ]
  },
  {
   "cell_type": "code",
   "execution_count": 113,
   "id": "d42d1e28",
   "metadata": {},
   "outputs": [
    {
     "data": {
      "text/html": [
       "<div>\n",
       "<style scoped>\n",
       "    .dataframe tbody tr th:only-of-type {\n",
       "        vertical-align: middle;\n",
       "    }\n",
       "\n",
       "    .dataframe tbody tr th {\n",
       "        vertical-align: top;\n",
       "    }\n",
       "\n",
       "    .dataframe thead th {\n",
       "        text-align: right;\n",
       "    }\n",
       "</style>\n",
       "<table border=\"1\" class=\"dataframe\">\n",
       "  <thead>\n",
       "    <tr style=\"text-align: right;\">\n",
       "      <th></th>\n",
       "      <th>monthh</th>\n",
       "      <th>make</th>\n",
       "      <th>accidentarea</th>\n",
       "      <th>dayofweekclaimed</th>\n",
       "      <th>monthclaimed</th>\n",
       "      <th>weekofmonthclaimed</th>\n",
       "      <th>age</th>\n",
       "      <th>fault</th>\n",
       "      <th>policytype</th>\n",
       "      <th>vehiclecategory</th>\n",
       "      <th>...</th>\n",
       "      <th>days_policy_claim</th>\n",
       "      <th>pastnumberofclaims</th>\n",
       "      <th>ageofvehicle</th>\n",
       "      <th>ageofpolicyholder</th>\n",
       "      <th>policereportfiled</th>\n",
       "      <th>agenttype</th>\n",
       "      <th>numberofsuppliments</th>\n",
       "      <th>numberofcars</th>\n",
       "      <th>yearr</th>\n",
       "      <th>basepolicy</th>\n",
       "    </tr>\n",
       "  </thead>\n",
       "  <tbody>\n",
       "    <tr>\n",
       "      <th>0</th>\n",
       "      <td>Dec</td>\n",
       "      <td>Honda</td>\n",
       "      <td>Urban</td>\n",
       "      <td>Tuesday</td>\n",
       "      <td>Jan</td>\n",
       "      <td>1</td>\n",
       "      <td>21</td>\n",
       "      <td>Policy Holder</td>\n",
       "      <td>Sport - Liability</td>\n",
       "      <td>Sport</td>\n",
       "      <td>...</td>\n",
       "      <td>more than 30</td>\n",
       "      <td>none</td>\n",
       "      <td>3 years</td>\n",
       "      <td>26 to 30</td>\n",
       "      <td>No</td>\n",
       "      <td>External</td>\n",
       "      <td>none</td>\n",
       "      <td>3 to 4</td>\n",
       "      <td>1994</td>\n",
       "      <td>Liability</td>\n",
       "    </tr>\n",
       "    <tr>\n",
       "      <th>1</th>\n",
       "      <td>Jan</td>\n",
       "      <td>Honda</td>\n",
       "      <td>Urban</td>\n",
       "      <td>Monday</td>\n",
       "      <td>Jan</td>\n",
       "      <td>4</td>\n",
       "      <td>34</td>\n",
       "      <td>Policy Holder</td>\n",
       "      <td>Sport - Collision</td>\n",
       "      <td>Sport</td>\n",
       "      <td>...</td>\n",
       "      <td>more than 30</td>\n",
       "      <td>none</td>\n",
       "      <td>6 years</td>\n",
       "      <td>31 to 35</td>\n",
       "      <td>Yes</td>\n",
       "      <td>External</td>\n",
       "      <td>none</td>\n",
       "      <td>1 vehicle</td>\n",
       "      <td>1994</td>\n",
       "      <td>Collision</td>\n",
       "    </tr>\n",
       "    <tr>\n",
       "      <th>2</th>\n",
       "      <td>Oct</td>\n",
       "      <td>Honda</td>\n",
       "      <td>Urban</td>\n",
       "      <td>Thursday</td>\n",
       "      <td>Nov</td>\n",
       "      <td>2</td>\n",
       "      <td>47</td>\n",
       "      <td>Policy Holder</td>\n",
       "      <td>Sport - Collision</td>\n",
       "      <td>Sport</td>\n",
       "      <td>...</td>\n",
       "      <td>more than 30</td>\n",
       "      <td>1</td>\n",
       "      <td>7 years</td>\n",
       "      <td>41 to 50</td>\n",
       "      <td>No</td>\n",
       "      <td>External</td>\n",
       "      <td>none</td>\n",
       "      <td>1 vehicle</td>\n",
       "      <td>1994</td>\n",
       "      <td>Collision</td>\n",
       "    </tr>\n",
       "    <tr>\n",
       "      <th>3</th>\n",
       "      <td>Jun</td>\n",
       "      <td>Toyota</td>\n",
       "      <td>Rural</td>\n",
       "      <td>Friday</td>\n",
       "      <td>Jul</td>\n",
       "      <td>1</td>\n",
       "      <td>65</td>\n",
       "      <td>Third Party</td>\n",
       "      <td>Sedan - Liability</td>\n",
       "      <td>Sport</td>\n",
       "      <td>...</td>\n",
       "      <td>more than 30</td>\n",
       "      <td>1</td>\n",
       "      <td>more than 7</td>\n",
       "      <td>51 to 65</td>\n",
       "      <td>Yes</td>\n",
       "      <td>External</td>\n",
       "      <td>more than 5</td>\n",
       "      <td>1 vehicle</td>\n",
       "      <td>1994</td>\n",
       "      <td>Liability</td>\n",
       "    </tr>\n",
       "    <tr>\n",
       "      <th>4</th>\n",
       "      <td>Jan</td>\n",
       "      <td>Honda</td>\n",
       "      <td>Urban</td>\n",
       "      <td>Tuesday</td>\n",
       "      <td>Feb</td>\n",
       "      <td>2</td>\n",
       "      <td>27</td>\n",
       "      <td>Third Party</td>\n",
       "      <td>Sport - Collision</td>\n",
       "      <td>Sport</td>\n",
       "      <td>...</td>\n",
       "      <td>more than 30</td>\n",
       "      <td>none</td>\n",
       "      <td>5 years</td>\n",
       "      <td>31 to 35</td>\n",
       "      <td>No</td>\n",
       "      <td>External</td>\n",
       "      <td>none</td>\n",
       "      <td>1 vehicle</td>\n",
       "      <td>1994</td>\n",
       "      <td>Collision</td>\n",
       "    </tr>\n",
       "  </tbody>\n",
       "</table>\n",
       "<p>5 rows × 24 columns</p>\n",
       "</div>"
      ],
      "text/plain": [
       "  monthh    make accidentarea dayofweekclaimed monthclaimed  \\\n",
       "0    Dec   Honda        Urban          Tuesday          Jan   \n",
       "1    Jan   Honda        Urban           Monday          Jan   \n",
       "2    Oct   Honda        Urban         Thursday          Nov   \n",
       "3    Jun  Toyota        Rural           Friday          Jul   \n",
       "4    Jan   Honda        Urban          Tuesday          Feb   \n",
       "\n",
       "   weekofmonthclaimed  age          fault         policytype vehiclecategory  \\\n",
       "0                   1   21  Policy Holder  Sport - Liability           Sport   \n",
       "1                   4   34  Policy Holder  Sport - Collision           Sport   \n",
       "2                   2   47  Policy Holder  Sport - Collision           Sport   \n",
       "3                   1   65    Third Party  Sedan - Liability           Sport   \n",
       "4                   2   27    Third Party  Sport - Collision           Sport   \n",
       "\n",
       "   ... days_policy_claim  pastnumberofclaims  ageofvehicle ageofpolicyholder  \\\n",
       "0  ...      more than 30                none       3 years          26 to 30   \n",
       "1  ...      more than 30                none       6 years          31 to 35   \n",
       "2  ...      more than 30                   1       7 years          41 to 50   \n",
       "3  ...      more than 30                   1   more than 7          51 to 65   \n",
       "4  ...      more than 30                none       5 years          31 to 35   \n",
       "\n",
       "  policereportfiled agenttype numberofsuppliments numberofcars yearr  \\\n",
       "0                No  External                none       3 to 4  1994   \n",
       "1               Yes  External                none    1 vehicle  1994   \n",
       "2                No  External                none    1 vehicle  1994   \n",
       "3               Yes  External         more than 5    1 vehicle  1994   \n",
       "4                No  External                none    1 vehicle  1994   \n",
       "\n",
       "  basepolicy  \n",
       "0  Liability  \n",
       "1  Collision  \n",
       "2  Collision  \n",
       "3  Liability  \n",
       "4  Collision  \n",
       "\n",
       "[5 rows x 24 columns]"
      ]
     },
     "execution_count": 113,
     "metadata": {},
     "output_type": "execute_result"
    }
   ],
   "source": [
    "df.head()"
   ]
  },
  {
   "cell_type": "markdown",
   "id": "09366481",
   "metadata": {},
   "source": [
    "### Análisis descriptivo"
   ]
  },
  {
   "cell_type": "code",
   "execution_count": 119,
   "id": "fc9d4c6d",
   "metadata": {},
   "outputs": [
    {
     "name": "stdout",
     "output_type": "stream",
     "text": [
      "<class 'pandas.core.frame.DataFrame'>\n",
      "RangeIndex: 30840 entries, 0 to 30839\n",
      "Data columns (total 24 columns):\n",
      " #   Column                Non-Null Count  Dtype \n",
      "---  ------                --------------  ----- \n",
      " 0   monthh                30840 non-null  object\n",
      " 1   make                  30840 non-null  object\n",
      " 2   accidentarea          30840 non-null  object\n",
      " 3   dayofweekclaimed      30840 non-null  object\n",
      " 4   monthclaimed          30840 non-null  object\n",
      " 5   weekofmonthclaimed    30840 non-null  int64 \n",
      " 6   age                   30840 non-null  int64 \n",
      " 7   fault                 30840 non-null  object\n",
      " 8   policytype            30840 non-null  object\n",
      " 9   vehiclecategory       30840 non-null  object\n",
      " 10  vehicleprice          30840 non-null  object\n",
      " 11  fraudfound_p          30840 non-null  int64 \n",
      " 12  deductible            30840 non-null  int64 \n",
      " 13  days_policy_accident  30840 non-null  object\n",
      " 14  days_policy_claim     30840 non-null  object\n",
      " 15  pastnumberofclaims    30840 non-null  object\n",
      " 16  ageofvehicle          30840 non-null  object\n",
      " 17  ageofpolicyholder     30840 non-null  object\n",
      " 18  policereportfiled     30840 non-null  object\n",
      " 19  agenttype             30840 non-null  object\n",
      " 20  numberofsuppliments   30840 non-null  object\n",
      " 21  numberofcars          30840 non-null  object\n",
      " 22  yearr                 30840 non-null  int64 \n",
      " 23  basepolicy            30840 non-null  object\n",
      "dtypes: int64(5), object(19)\n",
      "memory usage: 5.6+ MB\n"
     ]
    }
   ],
   "source": [
    "#Infomación del data\n",
    "df.info()"
   ]
  },
  {
   "cell_type": "code",
   "execution_count": 117,
   "id": "4d34966d",
   "metadata": {},
   "outputs": [
    {
     "data": {
      "text/plain": [
       "monthh                  False\n",
       "make                    False\n",
       "accidentarea            False\n",
       "dayofweekclaimed        False\n",
       "monthclaimed            False\n",
       "weekofmonthclaimed      False\n",
       "age                     False\n",
       "fault                   False\n",
       "policytype              False\n",
       "vehiclecategory         False\n",
       "vehicleprice            False\n",
       "fraudfound_p            False\n",
       "deductible              False\n",
       "days_policy_accident    False\n",
       "days_policy_claim       False\n",
       "pastnumberofclaims      False\n",
       "ageofvehicle            False\n",
       "ageofpolicyholder       False\n",
       "policereportfiled       False\n",
       "agenttype               False\n",
       "numberofsuppliments     False\n",
       "numberofcars            False\n",
       "yearr                   False\n",
       "basepolicy              False\n",
       "dtype: bool"
      ]
     },
     "execution_count": 117,
     "metadata": {},
     "output_type": "execute_result"
    }
   ],
   "source": [
    "#variables que contienen N/A\n",
    "df.isnull().any()"
   ]
  },
  {
   "cell_type": "code",
   "execution_count": 124,
   "id": "f69ca845",
   "metadata": {},
   "outputs": [
    {
     "data": {
      "text/html": [
       "<div>\n",
       "<style scoped>\n",
       "    .dataframe tbody tr th:only-of-type {\n",
       "        vertical-align: middle;\n",
       "    }\n",
       "\n",
       "    .dataframe tbody tr th {\n",
       "        vertical-align: top;\n",
       "    }\n",
       "\n",
       "    .dataframe thead th {\n",
       "        text-align: right;\n",
       "    }\n",
       "</style>\n",
       "<table border=\"1\" class=\"dataframe\">\n",
       "  <thead>\n",
       "    <tr style=\"text-align: right;\">\n",
       "      <th></th>\n",
       "      <th>count</th>\n",
       "      <th>mean</th>\n",
       "      <th>std</th>\n",
       "      <th>min</th>\n",
       "      <th>25%</th>\n",
       "      <th>50%</th>\n",
       "      <th>75%</th>\n",
       "      <th>max</th>\n",
       "    </tr>\n",
       "  </thead>\n",
       "  <tbody>\n",
       "    <tr>\n",
       "      <th>weekofmonthclaimed</th>\n",
       "      <td>30840.0</td>\n",
       "      <td>2.693969</td>\n",
       "      <td>1.259095</td>\n",
       "      <td>1.0</td>\n",
       "      <td>2.0</td>\n",
       "      <td>3.0</td>\n",
       "      <td>4.0</td>\n",
       "      <td>5.0</td>\n",
       "    </tr>\n",
       "    <tr>\n",
       "      <th>age</th>\n",
       "      <td>30840.0</td>\n",
       "      <td>39.855707</td>\n",
       "      <td>13.492158</td>\n",
       "      <td>0.0</td>\n",
       "      <td>31.0</td>\n",
       "      <td>38.0</td>\n",
       "      <td>48.0</td>\n",
       "      <td>80.0</td>\n",
       "    </tr>\n",
       "    <tr>\n",
       "      <th>fraudfound_p</th>\n",
       "      <td>30840.0</td>\n",
       "      <td>0.059857</td>\n",
       "      <td>0.237226</td>\n",
       "      <td>0.0</td>\n",
       "      <td>0.0</td>\n",
       "      <td>0.0</td>\n",
       "      <td>0.0</td>\n",
       "      <td>1.0</td>\n",
       "    </tr>\n",
       "    <tr>\n",
       "      <th>deductible</th>\n",
       "      <td>30840.0</td>\n",
       "      <td>407.704280</td>\n",
       "      <td>43.950285</td>\n",
       "      <td>300.0</td>\n",
       "      <td>400.0</td>\n",
       "      <td>400.0</td>\n",
       "      <td>400.0</td>\n",
       "      <td>700.0</td>\n",
       "    </tr>\n",
       "    <tr>\n",
       "      <th>yearr</th>\n",
       "      <td>30840.0</td>\n",
       "      <td>1994.866472</td>\n",
       "      <td>0.803300</td>\n",
       "      <td>1994.0</td>\n",
       "      <td>1994.0</td>\n",
       "      <td>1995.0</td>\n",
       "      <td>1996.0</td>\n",
       "      <td>1996.0</td>\n",
       "    </tr>\n",
       "  </tbody>\n",
       "</table>\n",
       "</div>"
      ],
      "text/plain": [
       "                      count         mean        std     min     25%     50%  \\\n",
       "weekofmonthclaimed  30840.0     2.693969   1.259095     1.0     2.0     3.0   \n",
       "age                 30840.0    39.855707  13.492158     0.0    31.0    38.0   \n",
       "fraudfound_p        30840.0     0.059857   0.237226     0.0     0.0     0.0   \n",
       "deductible          30840.0   407.704280  43.950285   300.0   400.0   400.0   \n",
       "yearr               30840.0  1994.866472   0.803300  1994.0  1994.0  1995.0   \n",
       "\n",
       "                       75%     max  \n",
       "weekofmonthclaimed     4.0     5.0  \n",
       "age                   48.0    80.0  \n",
       "fraudfound_p           0.0     1.0  \n",
       "deductible           400.0   700.0  \n",
       "yearr               1996.0  1996.0  "
      ]
     },
     "execution_count": 124,
     "metadata": {},
     "output_type": "execute_result"
    },
    {
     "name": "stderr",
     "output_type": "stream",
     "text": [
      "C:\\Users\\Holmes\\AppData\\Local\\Programs\\Python\\Python310\\lib\\site-packages\\dtale\\views.py:1929: FutureWarning:\n",
      "\n",
      "The default value of regex will change from True to False in a future version.\n",
      "\n"
     ]
    },
    {
     "name": "stdout",
     "output_type": "stream",
     "text": [
      "Exception occurred while processing request: Can only use .str accessor with string values!\n",
      "Traceback (most recent call last):\n",
      "  File \"C:\\Users\\Holmes\\AppData\\Local\\Programs\\Python\\Python310\\lib\\site-packages\\dtale\\views.py\", line 120, in _handle_exceptions\n",
      "    return func(*args, **kwargs)\n",
      "  File \"C:\\Users\\Holmes\\AppData\\Local\\Programs\\Python\\Python310\\lib\\site-packages\\dtale\\views.py\", line 2708, in get_column_analysis\n",
      "    return jsonify(**analysis.build())\n",
      "  File \"C:\\Users\\Holmes\\AppData\\Local\\Programs\\Python\\Python310\\lib\\site-packages\\dtale\\column_analysis.py\", line 137, in build\n",
      "    return_data, code = self.analysis.build(self)\n",
      "  File \"C:\\Users\\Holmes\\AppData\\Local\\Programs\\Python\\Python310\\lib\\site-packages\\dtale\\column_analysis.py\", line 446, in build\n",
      "    hist = self.build_hist(s, code)\n",
      "  File \"C:\\Users\\Holmes\\AppData\\Local\\Programs\\Python\\Python310\\lib\\site-packages\\dtale\\column_analysis.py\", line 499, in build_hist\n",
      "    pd.value_counts(s.str.split(expand=True).stack())\n",
      "  File \"C:\\Users\\Holmes\\AppData\\Local\\Programs\\Python\\Python310\\lib\\site-packages\\pandas\\core\\generic.py\", line 5575, in __getattr__\n",
      "    return object.__getattribute__(self, name)\n",
      "  File \"C:\\Users\\Holmes\\AppData\\Local\\Programs\\Python\\Python310\\lib\\site-packages\\pandas\\core\\accessor.py\", line 182, in __get__\n",
      "    accessor_obj = self._accessor(obj)\n",
      "  File \"C:\\Users\\Holmes\\AppData\\Local\\Programs\\Python\\Python310\\lib\\site-packages\\pandas\\core\\strings\\accessor.py\", line 177, in __init__\n",
      "    self._inferred_dtype = self._validate(data)\n",
      "  File \"C:\\Users\\Holmes\\AppData\\Local\\Programs\\Python\\Python310\\lib\\site-packages\\pandas\\core\\strings\\accessor.py\", line 231, in _validate\n",
      "    raise AttributeError(\"Can only use .str accessor with string values!\")\n",
      "AttributeError: Can only use .str accessor with string values!\n"
     ]
    },
    {
     "name": "stderr",
     "output_type": "stream",
     "text": [
      "2022-08-15 13:11:35,567 - ERROR    - Exception occurred while processing request: Can only use .str accessor with string values!\n",
      "Traceback (most recent call last):\n",
      "  File \"C:\\Users\\Holmes\\AppData\\Local\\Programs\\Python\\Python310\\lib\\site-packages\\dtale\\views.py\", line 120, in _handle_exceptions\n",
      "    return func(*args, **kwargs)\n",
      "  File \"C:\\Users\\Holmes\\AppData\\Local\\Programs\\Python\\Python310\\lib\\site-packages\\dtale\\views.py\", line 2708, in get_column_analysis\n",
      "    return jsonify(**analysis.build())\n",
      "  File \"C:\\Users\\Holmes\\AppData\\Local\\Programs\\Python\\Python310\\lib\\site-packages\\dtale\\column_analysis.py\", line 137, in build\n",
      "    return_data, code = self.analysis.build(self)\n",
      "  File \"C:\\Users\\Holmes\\AppData\\Local\\Programs\\Python\\Python310\\lib\\site-packages\\dtale\\column_analysis.py\", line 446, in build\n",
      "    hist = self.build_hist(s, code)\n",
      "  File \"C:\\Users\\Holmes\\AppData\\Local\\Programs\\Python\\Python310\\lib\\site-packages\\dtale\\column_analysis.py\", line 499, in build_hist\n",
      "    pd.value_counts(s.str.split(expand=True).stack())\n",
      "  File \"C:\\Users\\Holmes\\AppData\\Local\\Programs\\Python\\Python310\\lib\\site-packages\\pandas\\core\\generic.py\", line 5575, in __getattr__\n",
      "    return object.__getattribute__(self, name)\n",
      "  File \"C:\\Users\\Holmes\\AppData\\Local\\Programs\\Python\\Python310\\lib\\site-packages\\pandas\\core\\accessor.py\", line 182, in __get__\n",
      "    accessor_obj = self._accessor(obj)\n",
      "  File \"C:\\Users\\Holmes\\AppData\\Local\\Programs\\Python\\Python310\\lib\\site-packages\\pandas\\core\\strings\\accessor.py\", line 177, in __init__\n",
      "    self._inferred_dtype = self._validate(data)\n",
      "  File \"C:\\Users\\Holmes\\AppData\\Local\\Programs\\Python\\Python310\\lib\\site-packages\\pandas\\core\\strings\\accessor.py\", line 231, in _validate\n",
      "    raise AttributeError(\"Can only use .str accessor with string values!\")\n",
      "AttributeError: Can only use .str accessor with string values!\n"
     ]
    }
   ],
   "source": [
    "df.describe().T"
   ]
  },
  {
   "cell_type": "code",
   "execution_count": 160,
   "id": "e3961d14",
   "metadata": {
    "scrolled": true
   },
   "outputs": [
    {
     "name": "stderr",
     "output_type": "stream",
     "text": [
      "Summarize dataset:  83%|█████████████████████████████████████▌       | 30/36 [00:36<00:07,  1.25s/it, scatter age, age]2022-08-15 15:00:56,731 - WARNING  - findfont: Font family ['Heiti TC'] not found. Falling back to DejaVu Sans.\n",
      "Summarize dataset:  84%|███████████████████████████████████▎      | 32/38 [00:38<00:07,  1.27s/it, Missing diagram bar]2022-08-15 15:00:57,448 - WARNING  - findfont: Font family ['Heiti TC'] not found. Falling back to DejaVu Sans.\n",
      "Summarize dataset: 100%|████████████████████████████████████████████████████| 38/38 [00:39<00:00,  1.05s/it, Completed]\n",
      "Generate report structure: 100%|█████████████████████████████████████████████████████████| 1/1 [00:11<00:00, 11.66s/it]\n",
      "Render HTML: 100%|███████████████████████████████████████████████████████████████████████| 1/1 [00:02<00:00,  2.85s/it]\n",
      "Export report to file: 100%|█████████████████████████████████████████████████████████████| 1/1 [00:00<00:00, 64.12it/s]\n"
     ]
    }
   ],
   "source": [
    "desc=ProfileReport(df, explorative=True)\n",
    "desc.to_file('Reporte_descriptivas.html')"
   ]
  },
  {
   "cell_type": "code",
   "execution_count": 147,
   "id": "9a3c2e5e",
   "metadata": {},
   "outputs": [
    {
     "data": {
      "text/html": [
       "<div>\n",
       "<style scoped>\n",
       "    .dataframe tbody tr th:only-of-type {\n",
       "        vertical-align: middle;\n",
       "    }\n",
       "\n",
       "    .dataframe tbody tr th {\n",
       "        vertical-align: top;\n",
       "    }\n",
       "\n",
       "    .dataframe thead th {\n",
       "        text-align: right;\n",
       "    }\n",
       "</style>\n",
       "<table border=\"1\" class=\"dataframe\">\n",
       "  <thead>\n",
       "    <tr style=\"text-align: right;\">\n",
       "      <th>col_0</th>\n",
       "      <th>recuento</th>\n",
       "    </tr>\n",
       "    <tr>\n",
       "      <th>fraudfound_p</th>\n",
       "      <th></th>\n",
       "    </tr>\n",
       "  </thead>\n",
       "  <tbody>\n",
       "    <tr>\n",
       "      <th>0</th>\n",
       "      <td>0.940143</td>\n",
       "    </tr>\n",
       "    <tr>\n",
       "      <th>1</th>\n",
       "      <td>0.059857</td>\n",
       "    </tr>\n",
       "  </tbody>\n",
       "</table>\n",
       "</div>"
      ],
      "text/plain": [
       "col_0          recuento \n",
       "fraudfound_p            \n",
       "0               0.940143\n",
       "1               0.059857"
      ]
     },
     "execution_count": 147,
     "metadata": {},
     "output_type": "execute_result"
    }
   ],
   "source": [
    "fraudes=pd.crosstab (index = df ['fraudfound_p'], columns = ' recuento ')\n",
    "fraudes=fraudes/fraudes.sum()\n",
    "fraudes"
   ]
  },
  {
   "cell_type": "code",
   "execution_count": 246,
   "id": "8fe5c42d",
   "metadata": {},
   "outputs": [],
   "source": [
    "a=pd.DataFrame(df['fraudfound_p'].value_counts())\n",
    "a.reset_index(inplace=True)\n",
    "\n",
    "a.plot(kind='pie',y='fraudfound_p',labels=a['index'],autopct='%1.2f')\n",
    "plt.title('Proporción en fraudes', fontsize = 20)\n",
    "plt.show()"
   ]
  },
  {
   "cell_type": "code",
   "execution_count": 251,
   "id": "bf8006ee",
   "metadata": {},
   "outputs": [],
   "source": [
    "SeguroFraude=pd.crosstab(df.deductible,df.fraudfound_p)\n",
    "SeguroFraude.plot(kind = 'bar')\n",
    "plt.show()"
   ]
  },
  {
   "cell_type": "code",
   "execution_count": 254,
   "id": "21e8dab8",
   "metadata": {},
   "outputs": [],
   "source": [
    "SeguroVC=pd.crosstab(df.deductible, df.fault)\n",
    "SeguroVC.plot(kind = 'barh')\n",
    "plt.show()"
   ]
  },
  {
   "cell_type": "code",
   "execution_count": 252,
   "id": "a794c019",
   "metadata": {},
   "outputs": [],
   "source": [
    "SeguroVC=pd.crosstab(df.deductible,df.vehiclecategory)\n",
    "colors = plt.cm.summer(np.linspace(0, 1, 5))\n",
    "SeguroVC.div(SeguroVC.sum(1).astype(float), axis = 0).plot(kind = 'bar',\n",
    "                                                           stacked = False,\n",
    "                                                           figsize = (15, 7),\n",
    "                                                           color = colors)\n",
    "\n",
    "plt.title('Costo de seguro por categoría del vehículo', fontsize = 20)\n",
    "plt.legend()\n",
    "plt.show()"
   ]
  },
  {
   "cell_type": "code",
   "execution_count": 218,
   "id": "dc8f38e6",
   "metadata": {
    "scrolled": true
   },
   "outputs": [
    {
     "name": "stderr",
     "output_type": "stream",
     "text": [
      "Traceback (most recent call last):\n",
      "  File \"C:\\Users\\Holmes\\AppData\\Local\\Programs\\Python\\Python310\\lib\\site-packages\\matplotlib\\cbook\\__init__.py\", line 287, in process\n",
      "    func(*args, **kwargs)\n",
      "  File \"C:\\Users\\Holmes\\AppData\\Local\\Programs\\Python\\Python310\\lib\\site-packages\\matplotlib\\backend_bases.py\", line 3279, in <lambda>\n",
      "    \"close_event\", lambda e: manager.destroy())\n",
      "  File \"C:\\Users\\Holmes\\AppData\\Local\\Programs\\Python\\Python310\\lib\\site-packages\\matplotlib\\backends\\_backend_tk.py\", line 495, in destroy\n",
      "    self._window_dpi.trace_remove('write', self._window_dpi_cbname)\n",
      "  File \"C:\\Users\\Holmes\\AppData\\Local\\Programs\\Python\\Python310\\lib\\tkinter\\__init__.py\", line 455, in trace_remove\n",
      "    self._tk.deletecommand(cbname)\n",
      "_tkinter.TclError: can't delete Tcl command\n"
     ]
    }
   ],
   "source": [
    "sns.boxplot(x=df.policytype,y=df.age,data=df)\n",
    "plt.show()"
   ]
  },
  {
   "cell_type": "code",
   "execution_count": 231,
   "id": "52d89a0b",
   "metadata": {
    "scrolled": true
   },
   "outputs": [
    {
     "data": {
      "text/html": [
       "<div>\n",
       "<style scoped>\n",
       "    .dataframe tbody tr th:only-of-type {\n",
       "        vertical-align: middle;\n",
       "    }\n",
       "\n",
       "    .dataframe tbody tr th {\n",
       "        vertical-align: top;\n",
       "    }\n",
       "\n",
       "    .dataframe thead tr th {\n",
       "        text-align: left;\n",
       "    }\n",
       "\n",
       "    .dataframe thead tr:last-of-type th {\n",
       "        text-align: right;\n",
       "    }\n",
       "</style>\n",
       "<table border=\"1\" class=\"dataframe\">\n",
       "  <thead>\n",
       "    <tr>\n",
       "      <th></th>\n",
       "      <th colspan=\"2\" halign=\"left\">age</th>\n",
       "    </tr>\n",
       "    <tr>\n",
       "      <th>fraudfound_p</th>\n",
       "      <th>0</th>\n",
       "      <th>1</th>\n",
       "    </tr>\n",
       "    <tr>\n",
       "      <th>policytype</th>\n",
       "      <th></th>\n",
       "      <th></th>\n",
       "    </tr>\n",
       "  </thead>\n",
       "  <tbody>\n",
       "    <tr>\n",
       "      <th>Sedan - All Perils</th>\n",
       "      <td>42.005441</td>\n",
       "      <td>38.420925</td>\n",
       "    </tr>\n",
       "    <tr>\n",
       "      <th>Sedan - Collision</th>\n",
       "      <td>38.784423</td>\n",
       "      <td>38.226562</td>\n",
       "    </tr>\n",
       "    <tr>\n",
       "      <th>Sedan - Liability</th>\n",
       "      <td>39.545950</td>\n",
       "      <td>38.666667</td>\n",
       "    </tr>\n",
       "    <tr>\n",
       "      <th>Sport - All Perils</th>\n",
       "      <td>33.545455</td>\n",
       "      <td>NaN</td>\n",
       "    </tr>\n",
       "    <tr>\n",
       "      <th>Sport - Collision</th>\n",
       "      <td>36.080000</td>\n",
       "      <td>34.166667</td>\n",
       "    </tr>\n",
       "    <tr>\n",
       "      <th>Sport - Liability</th>\n",
       "      <td>21.000000</td>\n",
       "      <td>NaN</td>\n",
       "    </tr>\n",
       "    <tr>\n",
       "      <th>Utility - All Perils</th>\n",
       "      <td>45.468227</td>\n",
       "      <td>40.487805</td>\n",
       "    </tr>\n",
       "    <tr>\n",
       "      <th>Utility - Collision</th>\n",
       "      <td>49.000000</td>\n",
       "      <td>52.333333</td>\n",
       "    </tr>\n",
       "    <tr>\n",
       "      <th>Utility - Liability</th>\n",
       "      <td>41.523810</td>\n",
       "      <td>NaN</td>\n",
       "    </tr>\n",
       "  </tbody>\n",
       "</table>\n",
       "</div>"
      ],
      "text/plain": [
       "                            age           \n",
       "fraudfound_p                  0          1\n",
       "policytype                                \n",
       "Sedan - All Perils    42.005441  38.420925\n",
       "Sedan - Collision     38.784423  38.226562\n",
       "Sedan - Liability     39.545950  38.666667\n",
       "Sport - All Perils    33.545455        NaN\n",
       "Sport - Collision     36.080000  34.166667\n",
       "Sport - Liability     21.000000        NaN\n",
       "Utility - All Perils  45.468227  40.487805\n",
       "Utility - Collision   49.000000  52.333333\n",
       "Utility - Liability   41.523810        NaN"
      ]
     },
     "execution_count": 231,
     "metadata": {},
     "output_type": "execute_result"
    }
   ],
   "source": [
    "pd.pivot_table (df,index='policytype', columns='fraudfound_p',aggfunc={'age': np.mean})\n"
   ]
  },
  {
   "cell_type": "code",
   "execution_count": 240,
   "id": "c1a7565b",
   "metadata": {
    "scrolled": true
   },
   "outputs": [
    {
     "data": {
      "text/html": [
       "<div>\n",
       "<style scoped>\n",
       "    .dataframe tbody tr th:only-of-type {\n",
       "        vertical-align: middle;\n",
       "    }\n",
       "\n",
       "    .dataframe tbody tr th {\n",
       "        vertical-align: top;\n",
       "    }\n",
       "\n",
       "    .dataframe thead th {\n",
       "        text-align: right;\n",
       "    }\n",
       "</style>\n",
       "<table border=\"1\" class=\"dataframe\">\n",
       "  <thead>\n",
       "    <tr style=\"text-align: right;\">\n",
       "      <th></th>\n",
       "      <th>age</th>\n",
       "    </tr>\n",
       "    <tr>\n",
       "      <th>policytype</th>\n",
       "      <th></th>\n",
       "    </tr>\n",
       "  </thead>\n",
       "  <tbody>\n",
       "    <tr>\n",
       "      <th>Sedan - All Perils</th>\n",
       "      <td>41.644972</td>\n",
       "    </tr>\n",
       "    <tr>\n",
       "      <th>Sedan - Collision</th>\n",
       "      <td>38.746060</td>\n",
       "    </tr>\n",
       "    <tr>\n",
       "      <th>Sedan - Liability</th>\n",
       "      <td>39.539603</td>\n",
       "    </tr>\n",
       "    <tr>\n",
       "      <th>Sport - All Perils</th>\n",
       "      <td>33.545455</td>\n",
       "    </tr>\n",
       "    <tr>\n",
       "      <th>Sport - Collision</th>\n",
       "      <td>35.816092</td>\n",
       "    </tr>\n",
       "    <tr>\n",
       "      <th>Sport - Liability</th>\n",
       "      <td>21.000000</td>\n",
       "    </tr>\n",
       "    <tr>\n",
       "      <th>Utility - All Perils</th>\n",
       "      <td>44.867647</td>\n",
       "    </tr>\n",
       "    <tr>\n",
       "      <th>Utility - Collision</th>\n",
       "      <td>49.333333</td>\n",
       "    </tr>\n",
       "    <tr>\n",
       "      <th>Utility - Liability</th>\n",
       "      <td>41.523810</td>\n",
       "    </tr>\n",
       "  </tbody>\n",
       "</table>\n",
       "</div>"
      ],
      "text/plain": [
       "                            age\n",
       "policytype                     \n",
       "Sedan - All Perils    41.644972\n",
       "Sedan - Collision     38.746060\n",
       "Sedan - Liability     39.539603\n",
       "Sport - All Perils    33.545455\n",
       "Sport - Collision     35.816092\n",
       "Sport - Liability     21.000000\n",
       "Utility - All Perils  44.867647\n",
       "Utility - Collision   49.333333\n",
       "Utility - Liability   41.523810"
      ]
     },
     "execution_count": 240,
     "metadata": {},
     "output_type": "execute_result"
    }
   ],
   "source": [
    "AgePolicy=pd.pivot_table (df,index='policytype',fill_value=0, aggfunc={'age': np.mean})\n",
    "AgePolicy"
   ]
  },
  {
   "cell_type": "code",
   "execution_count": 243,
   "id": "0a6386ea",
   "metadata": {},
   "outputs": [],
   "source": [
    "AgePolicy.plot(kind = 'area')\n",
    "plt.title(\"Edad media por tipo de auto y poliza \", fontsize = 20)\n",
    "plt.show()\n"
   ]
  },
  {
   "cell_type": "code",
   "execution_count": 253,
   "id": "2847f6ae",
   "metadata": {
    "scrolled": true
   },
   "outputs": [
    {
     "data": {
      "text/html": [
       "<div>\n",
       "<style scoped>\n",
       "    .dataframe tbody tr th:only-of-type {\n",
       "        vertical-align: middle;\n",
       "    }\n",
       "\n",
       "    .dataframe tbody tr th {\n",
       "        vertical-align: top;\n",
       "    }\n",
       "\n",
       "    .dataframe thead tr th {\n",
       "        text-align: left;\n",
       "    }\n",
       "\n",
       "    .dataframe thead tr:last-of-type th {\n",
       "        text-align: right;\n",
       "    }\n",
       "</style>\n",
       "<table border=\"1\" class=\"dataframe\">\n",
       "  <thead>\n",
       "    <tr>\n",
       "      <th></th>\n",
       "      <th colspan=\"2\" halign=\"left\">fraudfound_p</th>\n",
       "    </tr>\n",
       "    <tr>\n",
       "      <th>fraudfound_p</th>\n",
       "      <th>0</th>\n",
       "      <th>1</th>\n",
       "    </tr>\n",
       "    <tr>\n",
       "      <th>policytype</th>\n",
       "      <th></th>\n",
       "      <th></th>\n",
       "    </tr>\n",
       "  </thead>\n",
       "  <tbody>\n",
       "    <tr>\n",
       "      <th>Sedan - All Perils</th>\n",
       "      <td>0.0</td>\n",
       "      <td>822.0</td>\n",
       "    </tr>\n",
       "    <tr>\n",
       "      <th>Sedan - Collision</th>\n",
       "      <td>0.0</td>\n",
       "      <td>768.0</td>\n",
       "    </tr>\n",
       "    <tr>\n",
       "      <th>Sedan - Liability</th>\n",
       "      <td>0.0</td>\n",
       "      <td>72.0</td>\n",
       "    </tr>\n",
       "    <tr>\n",
       "      <th>Sport - All Perils</th>\n",
       "      <td>0.0</td>\n",
       "      <td>NaN</td>\n",
       "    </tr>\n",
       "    <tr>\n",
       "      <th>Sport - Collision</th>\n",
       "      <td>0.0</td>\n",
       "      <td>96.0</td>\n",
       "    </tr>\n",
       "    <tr>\n",
       "      <th>Sport - Liability</th>\n",
       "      <td>0.0</td>\n",
       "      <td>NaN</td>\n",
       "    </tr>\n",
       "    <tr>\n",
       "      <th>Utility - All Perils</th>\n",
       "      <td>0.0</td>\n",
       "      <td>82.0</td>\n",
       "    </tr>\n",
       "    <tr>\n",
       "      <th>Utility - Collision</th>\n",
       "      <td>0.0</td>\n",
       "      <td>6.0</td>\n",
       "    </tr>\n",
       "    <tr>\n",
       "      <th>Utility - Liability</th>\n",
       "      <td>0.0</td>\n",
       "      <td>NaN</td>\n",
       "    </tr>\n",
       "  </tbody>\n",
       "</table>\n",
       "</div>"
      ],
      "text/plain": [
       "                     fraudfound_p       \n",
       "fraudfound_p                    0      1\n",
       "policytype                              \n",
       "Sedan - All Perils            0.0  822.0\n",
       "Sedan - Collision             0.0  768.0\n",
       "Sedan - Liability             0.0   72.0\n",
       "Sport - All Perils            0.0    NaN\n",
       "Sport - Collision             0.0   96.0\n",
       "Sport - Liability             0.0    NaN\n",
       "Utility - All Perils          0.0   82.0\n",
       "Utility - Collision           0.0    6.0\n",
       "Utility - Liability           0.0    NaN"
      ]
     },
     "execution_count": 253,
     "metadata": {},
     "output_type": "execute_result"
    }
   ],
   "source": [
    "Policyfraude=pd.pivot_table(df,index='policytype',columns='fraudfound_p', aggfunc={'fraudfound_p': np.sum})\n",
    "Policyfraude"
   ]
  },
  {
   "cell_type": "code",
   "execution_count": 256,
   "id": "5665902f",
   "metadata": {},
   "outputs": [
    {
     "data": {
      "text/html": [
       "<div>\n",
       "<style scoped>\n",
       "    .dataframe tbody tr th:only-of-type {\n",
       "        vertical-align: middle;\n",
       "    }\n",
       "\n",
       "    .dataframe tbody tr th {\n",
       "        vertical-align: top;\n",
       "    }\n",
       "\n",
       "    .dataframe thead th {\n",
       "        text-align: right;\n",
       "    }\n",
       "</style>\n",
       "<table border=\"1\" class=\"dataframe\">\n",
       "  <thead>\n",
       "    <tr style=\"text-align: right;\">\n",
       "      <th></th>\n",
       "      <th>age</th>\n",
       "    </tr>\n",
       "    <tr>\n",
       "      <th>fraudfound_p</th>\n",
       "      <th></th>\n",
       "    </tr>\n",
       "  </thead>\n",
       "  <tbody>\n",
       "    <tr>\n",
       "      <th>0</th>\n",
       "      <td>39.956957</td>\n",
       "    </tr>\n",
       "    <tr>\n",
       "      <th>1</th>\n",
       "      <td>38.265439</td>\n",
       "    </tr>\n",
       "  </tbody>\n",
       "</table>\n",
       "</div>"
      ],
      "text/plain": [
       "                    age\n",
       "fraudfound_p           \n",
       "0             39.956957\n",
       "1             38.265439"
      ]
     },
     "execution_count": 256,
     "metadata": {},
     "output_type": "execute_result"
    }
   ],
   "source": [
    "AgeFraude=pd.pivot_table(df,index='fraudfound_p', aggfunc={'age': np.mean})\n",
    "AgeFraude"
   ]
  },
  {
   "cell_type": "markdown",
   "id": "faa38254",
   "metadata": {},
   "source": [
    "### Relaciones"
   ]
  },
  {
   "cell_type": "code",
   "execution_count": 263,
   "id": "f040357b",
   "metadata": {},
   "outputs": [
    {
     "data": {
      "text/html": [
       "<div>\n",
       "<style scoped>\n",
       "    .dataframe tbody tr th:only-of-type {\n",
       "        vertical-align: middle;\n",
       "    }\n",
       "\n",
       "    .dataframe tbody tr th {\n",
       "        vertical-align: top;\n",
       "    }\n",
       "\n",
       "    .dataframe thead th {\n",
       "        text-align: right;\n",
       "    }\n",
       "</style>\n",
       "<table border=\"1\" class=\"dataframe\">\n",
       "  <thead>\n",
       "    <tr style=\"text-align: right;\">\n",
       "      <th></th>\n",
       "      <th>make</th>\n",
       "      <th>fraudfound_p</th>\n",
       "    </tr>\n",
       "  </thead>\n",
       "  <tbody>\n",
       "    <tr>\n",
       "      <th>10</th>\n",
       "      <td>Mecedes</td>\n",
       "      <td>0.250000</td>\n",
       "    </tr>\n",
       "    <tr>\n",
       "      <th>0</th>\n",
       "      <td>Accura</td>\n",
       "      <td>0.125000</td>\n",
       "    </tr>\n",
       "    <tr>\n",
       "      <th>16</th>\n",
       "      <td>Saturn</td>\n",
       "      <td>0.103448</td>\n",
       "    </tr>\n",
       "    <tr>\n",
       "      <th>15</th>\n",
       "      <td>Saab</td>\n",
       "      <td>0.101852</td>\n",
       "    </tr>\n",
       "    <tr>\n",
       "      <th>5</th>\n",
       "      <td>Ford</td>\n",
       "      <td>0.073333</td>\n",
       "    </tr>\n",
       "    <tr>\n",
       "      <th>11</th>\n",
       "      <td>Mercury</td>\n",
       "      <td>0.072289</td>\n",
       "    </tr>\n",
       "    <tr>\n",
       "      <th>1</th>\n",
       "      <td>BMW</td>\n",
       "      <td>0.066667</td>\n",
       "    </tr>\n",
       "    <tr>\n",
       "      <th>6</th>\n",
       "      <td>Honda</td>\n",
       "      <td>0.063906</td>\n",
       "    </tr>\n",
       "    <tr>\n",
       "      <th>17</th>\n",
       "      <td>Toyota</td>\n",
       "      <td>0.059596</td>\n",
       "    </tr>\n",
       "    <tr>\n",
       "      <th>2</th>\n",
       "      <td>Chevrolet</td>\n",
       "      <td>0.055919</td>\n",
       "    </tr>\n",
       "    <tr>\n",
       "      <th>13</th>\n",
       "      <td>Pontiac</td>\n",
       "      <td>0.055512</td>\n",
       "    </tr>\n",
       "    <tr>\n",
       "      <th>9</th>\n",
       "      <td>Mazda</td>\n",
       "      <td>0.052251</td>\n",
       "    </tr>\n",
       "    <tr>\n",
       "      <th>12</th>\n",
       "      <td>Nisson</td>\n",
       "      <td>0.033333</td>\n",
       "    </tr>\n",
       "    <tr>\n",
       "      <th>18</th>\n",
       "      <td>VW</td>\n",
       "      <td>0.028269</td>\n",
       "    </tr>\n",
       "    <tr>\n",
       "      <th>3</th>\n",
       "      <td>Dodge</td>\n",
       "      <td>0.018349</td>\n",
       "    </tr>\n",
       "    <tr>\n",
       "      <th>8</th>\n",
       "      <td>Lexus</td>\n",
       "      <td>0.000000</td>\n",
       "    </tr>\n",
       "    <tr>\n",
       "      <th>14</th>\n",
       "      <td>Porche</td>\n",
       "      <td>0.000000</td>\n",
       "    </tr>\n",
       "    <tr>\n",
       "      <th>7</th>\n",
       "      <td>Jaguar</td>\n",
       "      <td>0.000000</td>\n",
       "    </tr>\n",
       "    <tr>\n",
       "      <th>4</th>\n",
       "      <td>Ferrari</td>\n",
       "      <td>0.000000</td>\n",
       "    </tr>\n",
       "  </tbody>\n",
       "</table>\n",
       "</div>"
      ],
      "text/plain": [
       "         make  fraudfound_p\n",
       "10    Mecedes      0.250000\n",
       "0      Accura      0.125000\n",
       "16     Saturn      0.103448\n",
       "15       Saab      0.101852\n",
       "5        Ford      0.073333\n",
       "11    Mercury      0.072289\n",
       "1         BMW      0.066667\n",
       "6       Honda      0.063906\n",
       "17     Toyota      0.059596\n",
       "2   Chevrolet      0.055919\n",
       "13    Pontiac      0.055512\n",
       "9       Mazda      0.052251\n",
       "12     Nisson      0.033333\n",
       "18         VW      0.028269\n",
       "3       Dodge      0.018349\n",
       "8       Lexus      0.000000\n",
       "14     Porche      0.000000\n",
       "7      Jaguar      0.000000\n",
       "4     Ferrari      0.000000"
      ]
     },
     "execution_count": 263,
     "metadata": {},
     "output_type": "execute_result"
    }
   ],
   "source": [
    "# comprobamos la correlación con la marca y el fraude\n",
    "\n",
    "df[['make','fraudfound_p']].groupby(['make'], \n",
    "                as_index = False).mean().sort_values(by = 'fraudfound_p', ascending = False)"
   ]
  },
  {
   "cell_type": "code",
   "execution_count": 264,
   "id": "2795a969",
   "metadata": {},
   "outputs": [
    {
     "data": {
      "text/html": [
       "<div>\n",
       "<style scoped>\n",
       "    .dataframe tbody tr th:only-of-type {\n",
       "        vertical-align: middle;\n",
       "    }\n",
       "\n",
       "    .dataframe tbody tr th {\n",
       "        vertical-align: top;\n",
       "    }\n",
       "\n",
       "    .dataframe thead th {\n",
       "        text-align: right;\n",
       "    }\n",
       "</style>\n",
       "<table border=\"1\" class=\"dataframe\">\n",
       "  <thead>\n",
       "    <tr style=\"text-align: right;\">\n",
       "      <th></th>\n",
       "      <th>accidentarea</th>\n",
       "      <th>fraudfound_p</th>\n",
       "    </tr>\n",
       "  </thead>\n",
       "  <tbody>\n",
       "    <tr>\n",
       "      <th>0</th>\n",
       "      <td>Rural</td>\n",
       "      <td>0.083229</td>\n",
       "    </tr>\n",
       "    <tr>\n",
       "      <th>1</th>\n",
       "      <td>Urban</td>\n",
       "      <td>0.057155</td>\n",
       "    </tr>\n",
       "  </tbody>\n",
       "</table>\n",
       "</div>"
      ],
      "text/plain": [
       "  accidentarea  fraudfound_p\n",
       "0        Rural      0.083229\n",
       "1        Urban      0.057155"
      ]
     },
     "execution_count": 264,
     "metadata": {},
     "output_type": "execute_result"
    }
   ],
   "source": [
    "# comprobamos la correlación del area y el fraude\n",
    "\n",
    "df[['accidentarea','fraudfound_p']].groupby(['accidentarea'], \n",
    "                as_index = False).mean().sort_values(by = 'fraudfound_p', ascending = False)"
   ]
  },
  {
   "cell_type": "code",
   "execution_count": 265,
   "id": "72a07725",
   "metadata": {},
   "outputs": [
    {
     "data": {
      "text/html": [
       "<div>\n",
       "<style scoped>\n",
       "    .dataframe tbody tr th:only-of-type {\n",
       "        vertical-align: middle;\n",
       "    }\n",
       "\n",
       "    .dataframe tbody tr th {\n",
       "        vertical-align: top;\n",
       "    }\n",
       "\n",
       "    .dataframe thead th {\n",
       "        text-align: right;\n",
       "    }\n",
       "</style>\n",
       "<table border=\"1\" class=\"dataframe\">\n",
       "  <thead>\n",
       "    <tr style=\"text-align: right;\">\n",
       "      <th></th>\n",
       "      <th>fault</th>\n",
       "      <th>fraudfound_p</th>\n",
       "    </tr>\n",
       "  </thead>\n",
       "  <tbody>\n",
       "    <tr>\n",
       "      <th>0</th>\n",
       "      <td>Policy Holder</td>\n",
       "      <td>0.078896</td>\n",
       "    </tr>\n",
       "    <tr>\n",
       "      <th>1</th>\n",
       "      <td>Third Party</td>\n",
       "      <td>0.008831</td>\n",
       "    </tr>\n",
       "  </tbody>\n",
       "</table>\n",
       "</div>"
      ],
      "text/plain": [
       "           fault  fraudfound_p\n",
       "0  Policy Holder      0.078896\n",
       "1    Third Party      0.008831"
      ]
     },
     "execution_count": 265,
     "metadata": {},
     "output_type": "execute_result"
    }
   ],
   "source": [
    "# comprobamos la correlación del area y el fraude\n",
    "\n",
    "df[['fault','fraudfound_p']].groupby(['fault'], \n",
    "                as_index = False).mean().sort_values(by = 'fraudfound_p', ascending = False)"
   ]
  },
  {
   "cell_type": "code",
   "execution_count": 266,
   "id": "1e7e5448",
   "metadata": {},
   "outputs": [
    {
     "data": {
      "text/html": [
       "<div>\n",
       "<style scoped>\n",
       "    .dataframe tbody tr th:only-of-type {\n",
       "        vertical-align: middle;\n",
       "    }\n",
       "\n",
       "    .dataframe tbody tr th {\n",
       "        vertical-align: top;\n",
       "    }\n",
       "\n",
       "    .dataframe thead th {\n",
       "        text-align: right;\n",
       "    }\n",
       "</style>\n",
       "<table border=\"1\" class=\"dataframe\">\n",
       "  <thead>\n",
       "    <tr style=\"text-align: right;\">\n",
       "      <th></th>\n",
       "      <th>policytype</th>\n",
       "      <th>fraudfound_p</th>\n",
       "    </tr>\n",
       "  </thead>\n",
       "  <tbody>\n",
       "    <tr>\n",
       "      <th>4</th>\n",
       "      <td>Sport - Collision</td>\n",
       "      <td>0.137931</td>\n",
       "    </tr>\n",
       "    <tr>\n",
       "      <th>6</th>\n",
       "      <td>Utility - All Perils</td>\n",
       "      <td>0.120588</td>\n",
       "    </tr>\n",
       "    <tr>\n",
       "      <th>0</th>\n",
       "      <td>Sedan - All Perils</td>\n",
       "      <td>0.100563</td>\n",
       "    </tr>\n",
       "    <tr>\n",
       "      <th>7</th>\n",
       "      <td>Utility - Collision</td>\n",
       "      <td>0.100000</td>\n",
       "    </tr>\n",
       "    <tr>\n",
       "      <th>1</th>\n",
       "      <td>Sedan - Collision</td>\n",
       "      <td>0.068768</td>\n",
       "    </tr>\n",
       "    <tr>\n",
       "      <th>2</th>\n",
       "      <td>Sedan - Liability</td>\n",
       "      <td>0.007219</td>\n",
       "    </tr>\n",
       "    <tr>\n",
       "      <th>3</th>\n",
       "      <td>Sport - All Perils</td>\n",
       "      <td>0.000000</td>\n",
       "    </tr>\n",
       "    <tr>\n",
       "      <th>5</th>\n",
       "      <td>Sport - Liability</td>\n",
       "      <td>0.000000</td>\n",
       "    </tr>\n",
       "    <tr>\n",
       "      <th>8</th>\n",
       "      <td>Utility - Liability</td>\n",
       "      <td>0.000000</td>\n",
       "    </tr>\n",
       "  </tbody>\n",
       "</table>\n",
       "</div>"
      ],
      "text/plain": [
       "             policytype  fraudfound_p\n",
       "4     Sport - Collision      0.137931\n",
       "6  Utility - All Perils      0.120588\n",
       "0    Sedan - All Perils      0.100563\n",
       "7   Utility - Collision      0.100000\n",
       "1     Sedan - Collision      0.068768\n",
       "2     Sedan - Liability      0.007219\n",
       "3    Sport - All Perils      0.000000\n",
       "5     Sport - Liability      0.000000\n",
       "8   Utility - Liability      0.000000"
      ]
     },
     "execution_count": 266,
     "metadata": {},
     "output_type": "execute_result"
    }
   ],
   "source": [
    "# comprobamos la correlación del tipo de vehículo - seguro y el fraude\n",
    "\n",
    "df[['policytype','fraudfound_p']].groupby(['policytype'], \n",
    "                as_index = False).mean().sort_values(by = 'fraudfound_p', ascending = False)"
   ]
  },
  {
   "cell_type": "code",
   "execution_count": 267,
   "id": "2880233d",
   "metadata": {},
   "outputs": [
    {
     "data": {
      "text/html": [
       "<div>\n",
       "<style scoped>\n",
       "    .dataframe tbody tr th:only-of-type {\n",
       "        vertical-align: middle;\n",
       "    }\n",
       "\n",
       "    .dataframe tbody tr th {\n",
       "        vertical-align: top;\n",
       "    }\n",
       "\n",
       "    .dataframe thead th {\n",
       "        text-align: right;\n",
       "    }\n",
       "</style>\n",
       "<table border=\"1\" class=\"dataframe\">\n",
       "  <thead>\n",
       "    <tr style=\"text-align: right;\">\n",
       "      <th></th>\n",
       "      <th>vehicleprice</th>\n",
       "      <th>fraudfound_p</th>\n",
       "    </tr>\n",
       "  </thead>\n",
       "  <tbody>\n",
       "    <tr>\n",
       "      <th>4</th>\n",
       "      <td>less than 20000</td>\n",
       "      <td>0.093978</td>\n",
       "    </tr>\n",
       "    <tr>\n",
       "      <th>5</th>\n",
       "      <td>more than 69000</td>\n",
       "      <td>0.087338</td>\n",
       "    </tr>\n",
       "    <tr>\n",
       "      <th>2</th>\n",
       "      <td>40000 to 59000</td>\n",
       "      <td>0.067245</td>\n",
       "    </tr>\n",
       "    <tr>\n",
       "      <th>0</th>\n",
       "      <td>20000 to 29000</td>\n",
       "      <td>0.052110</td>\n",
       "    </tr>\n",
       "    <tr>\n",
       "      <th>1</th>\n",
       "      <td>30000 to 39000</td>\n",
       "      <td>0.049533</td>\n",
       "    </tr>\n",
       "    <tr>\n",
       "      <th>3</th>\n",
       "      <td>60000 to 69000</td>\n",
       "      <td>0.045977</td>\n",
       "    </tr>\n",
       "  </tbody>\n",
       "</table>\n",
       "</div>"
      ],
      "text/plain": [
       "      vehicleprice  fraudfound_p\n",
       "4  less than 20000      0.093978\n",
       "5  more than 69000      0.087338\n",
       "2   40000 to 59000      0.067245\n",
       "0   20000 to 29000      0.052110\n",
       "1   30000 to 39000      0.049533\n",
       "3   60000 to 69000      0.045977"
      ]
     },
     "execution_count": 267,
     "metadata": {},
     "output_type": "execute_result"
    }
   ],
   "source": [
    "# comprobamos la correlación del precio del vehículo y el fraude\n",
    "\n",
    "df[['vehicleprice','fraudfound_p']].groupby(['vehicleprice'], \n",
    "                as_index = False).mean().sort_values(by = 'fraudfound_p', ascending = False)"
   ]
  },
  {
   "cell_type": "code",
   "execution_count": 268,
   "id": "299c4680",
   "metadata": {},
   "outputs": [
    {
     "data": {
      "text/html": [
       "<div>\n",
       "<style scoped>\n",
       "    .dataframe tbody tr th:only-of-type {\n",
       "        vertical-align: middle;\n",
       "    }\n",
       "\n",
       "    .dataframe tbody tr th {\n",
       "        vertical-align: top;\n",
       "    }\n",
       "\n",
       "    .dataframe thead th {\n",
       "        text-align: right;\n",
       "    }\n",
       "</style>\n",
       "<table border=\"1\" class=\"dataframe\">\n",
       "  <thead>\n",
       "    <tr style=\"text-align: right;\">\n",
       "      <th></th>\n",
       "      <th>ageofpolicyholder</th>\n",
       "      <th>fraudfound_p</th>\n",
       "    </tr>\n",
       "  </thead>\n",
       "  <tbody>\n",
       "    <tr>\n",
       "      <th>2</th>\n",
       "      <td>21 to 25</td>\n",
       "      <td>0.148148</td>\n",
       "    </tr>\n",
       "    <tr>\n",
       "      <th>1</th>\n",
       "      <td>18 to 20</td>\n",
       "      <td>0.133333</td>\n",
       "    </tr>\n",
       "    <tr>\n",
       "      <th>0</th>\n",
       "      <td>16 to 17</td>\n",
       "      <td>0.096875</td>\n",
       "    </tr>\n",
       "    <tr>\n",
       "      <th>4</th>\n",
       "      <td>31 to 35</td>\n",
       "      <td>0.064366</td>\n",
       "    </tr>\n",
       "    <tr>\n",
       "      <th>8</th>\n",
       "      <td>over 65</td>\n",
       "      <td>0.059055</td>\n",
       "    </tr>\n",
       "    <tr>\n",
       "      <th>5</th>\n",
       "      <td>36 to 40</td>\n",
       "      <td>0.058620</td>\n",
       "    </tr>\n",
       "    <tr>\n",
       "      <th>3</th>\n",
       "      <td>26 to 30</td>\n",
       "      <td>0.053834</td>\n",
       "    </tr>\n",
       "    <tr>\n",
       "      <th>6</th>\n",
       "      <td>41 to 50</td>\n",
       "      <td>0.050919</td>\n",
       "    </tr>\n",
       "    <tr>\n",
       "      <th>7</th>\n",
       "      <td>51 to 65</td>\n",
       "      <td>0.050287</td>\n",
       "    </tr>\n",
       "  </tbody>\n",
       "</table>\n",
       "</div>"
      ],
      "text/plain": [
       "  ageofpolicyholder  fraudfound_p\n",
       "2          21 to 25      0.148148\n",
       "1          18 to 20      0.133333\n",
       "0          16 to 17      0.096875\n",
       "4          31 to 35      0.064366\n",
       "8           over 65      0.059055\n",
       "5          36 to 40      0.058620\n",
       "3          26 to 30      0.053834\n",
       "6          41 to 50      0.050919\n",
       "7          51 to 65      0.050287"
      ]
     },
     "execution_count": 268,
     "metadata": {},
     "output_type": "execute_result"
    }
   ],
   "source": [
    "# comprobamos la correlación del precio del vehículo y el fraude\n",
    "\n",
    "df[['ageofpolicyholder','fraudfound_p']].groupby(['ageofpolicyholder'], \n",
    "                as_index = False).mean().sort_values(by = 'fraudfound_p', ascending = False)"
   ]
  },
  {
   "cell_type": "markdown",
   "id": "7aca85f9",
   "metadata": {},
   "source": [
    "### Principales hallazgos:\n",
    "\n",
    "+ De la base de datos se detectó que cerca del 6% de los incidentes fueron fraudulentos de los cuales la mayor parte tienen un costo de seguro de 400.\n",
    "+ Respecto a la categoría del vehículo se evidencia un costo más alto del seguro para \"Sport\" y \"Utility\", también se obtiene que se presentan más reportes fraudulentos en \"Sedan - All Perils\".\n",
    "+ La edad del denunciante tiene inferencia en la categoría del vehículo y el tipo de seguro, adicional la edad media entre las personas que reportan un incidente fraudulento es menor por 1 año en contraste a las que reportan incidentes verdaderos.\n",
    "+ Frente a las caracteristicas que más se relacionan con los fraudes, se encuentra la marca Mercedes que tiene mayor correlación (25%), el área rural tiene una relación del 83%, por otro lado los vehículos que cuestan menos de 20000 presentó una correlación del 93% y por útimo la edad del propietario con mayor de 21 a 25 tuvó mayor relación frente al fraude con el 15%. "
   ]
  },
  {
   "cell_type": "markdown",
   "id": "f020ddf2",
   "metadata": {},
   "source": [
    "## Modelo prdictivo"
   ]
  },
  {
   "cell_type": "markdown",
   "id": "9fe4b806",
   "metadata": {},
   "source": [
    "### Preparación de base"
   ]
  },
  {
   "cell_type": "code",
   "execution_count": 293,
   "id": "44634a75",
   "metadata": {
    "scrolled": true
   },
   "outputs": [
    {
     "ename": "KeyError",
     "evalue": "\"['dayofweekclaimed', 'monthclaimed', 'weekofmonthclaimed', 'days_policy_accident', 'basepolicy'] not found in axis\"",
     "output_type": "error",
     "traceback": [
      "\u001b[1;31m---------------------------------------------------------------------------\u001b[0m",
      "\u001b[1;31mKeyError\u001b[0m                                  Traceback (most recent call last)",
      "Input \u001b[1;32mIn [293]\u001b[0m, in \u001b[0;36m<cell line: 1>\u001b[1;34m()\u001b[0m\n\u001b[1;32m----> 1\u001b[0m df \u001b[38;5;241m=\u001b[39m \u001b[43mdf\u001b[49m\u001b[38;5;241;43m.\u001b[39;49m\u001b[43mdrop\u001b[49m\u001b[43m(\u001b[49m\u001b[43m[\u001b[49m\u001b[38;5;124;43m'\u001b[39;49m\u001b[38;5;124;43mdayofweekclaimed\u001b[39;49m\u001b[38;5;124;43m'\u001b[39;49m\u001b[43m,\u001b[49m\u001b[38;5;124;43m'\u001b[39;49m\u001b[38;5;124;43mmonthclaimed\u001b[39;49m\u001b[38;5;124;43m'\u001b[39;49m\u001b[43m,\u001b[49m\u001b[43m \u001b[49m\u001b[38;5;124;43m'\u001b[39;49m\u001b[38;5;124;43mweekofmonthclaimed\u001b[39;49m\u001b[38;5;124;43m'\u001b[39;49m\u001b[43m,\u001b[49m\u001b[38;5;124;43m'\u001b[39;49m\u001b[38;5;124;43mdays_policy_accident\u001b[39;49m\u001b[38;5;124;43m'\u001b[39;49m\u001b[43m,\u001b[49m\u001b[38;5;124;43m'\u001b[39;49m\u001b[38;5;124;43mbasepolicy\u001b[39;49m\u001b[38;5;124;43m'\u001b[39;49m\u001b[43m]\u001b[49m\u001b[43m,\u001b[49m\u001b[43m \u001b[49m\u001b[43maxis\u001b[49m\u001b[43m \u001b[49m\u001b[38;5;241;43m=\u001b[39;49m\u001b[43m \u001b[49m\u001b[38;5;241;43m1\u001b[39;49m\u001b[43m)\u001b[49m\n\u001b[0;32m      2\u001b[0m df\n",
      "File \u001b[1;32m~\\AppData\\Local\\Programs\\Python\\Python310\\lib\\site-packages\\pandas\\util\\_decorators.py:311\u001b[0m, in \u001b[0;36mdeprecate_nonkeyword_arguments.<locals>.decorate.<locals>.wrapper\u001b[1;34m(*args, **kwargs)\u001b[0m\n\u001b[0;32m    305\u001b[0m \u001b[38;5;28;01mif\u001b[39;00m \u001b[38;5;28mlen\u001b[39m(args) \u001b[38;5;241m>\u001b[39m num_allow_args:\n\u001b[0;32m    306\u001b[0m     warnings\u001b[38;5;241m.\u001b[39mwarn(\n\u001b[0;32m    307\u001b[0m         msg\u001b[38;5;241m.\u001b[39mformat(arguments\u001b[38;5;241m=\u001b[39marguments),\n\u001b[0;32m    308\u001b[0m         \u001b[38;5;167;01mFutureWarning\u001b[39;00m,\n\u001b[0;32m    309\u001b[0m         stacklevel\u001b[38;5;241m=\u001b[39mstacklevel,\n\u001b[0;32m    310\u001b[0m     )\n\u001b[1;32m--> 311\u001b[0m \u001b[38;5;28;01mreturn\u001b[39;00m func(\u001b[38;5;241m*\u001b[39margs, \u001b[38;5;241m*\u001b[39m\u001b[38;5;241m*\u001b[39mkwargs)\n",
      "File \u001b[1;32m~\\AppData\\Local\\Programs\\Python\\Python310\\lib\\site-packages\\pandas\\core\\frame.py:4954\u001b[0m, in \u001b[0;36mDataFrame.drop\u001b[1;34m(self, labels, axis, index, columns, level, inplace, errors)\u001b[0m\n\u001b[0;32m   4806\u001b[0m \u001b[38;5;129m@deprecate_nonkeyword_arguments\u001b[39m(version\u001b[38;5;241m=\u001b[39m\u001b[38;5;28;01mNone\u001b[39;00m, allowed_args\u001b[38;5;241m=\u001b[39m[\u001b[38;5;124m\"\u001b[39m\u001b[38;5;124mself\u001b[39m\u001b[38;5;124m\"\u001b[39m, \u001b[38;5;124m\"\u001b[39m\u001b[38;5;124mlabels\u001b[39m\u001b[38;5;124m\"\u001b[39m])\n\u001b[0;32m   4807\u001b[0m \u001b[38;5;28;01mdef\u001b[39;00m \u001b[38;5;21mdrop\u001b[39m(\n\u001b[0;32m   4808\u001b[0m     \u001b[38;5;28mself\u001b[39m,\n\u001b[1;32m   (...)\u001b[0m\n\u001b[0;32m   4815\u001b[0m     errors: \u001b[38;5;28mstr\u001b[39m \u001b[38;5;241m=\u001b[39m \u001b[38;5;124m\"\u001b[39m\u001b[38;5;124mraise\u001b[39m\u001b[38;5;124m\"\u001b[39m,\n\u001b[0;32m   4816\u001b[0m ):\n\u001b[0;32m   4817\u001b[0m     \u001b[38;5;124;03m\"\"\"\u001b[39;00m\n\u001b[0;32m   4818\u001b[0m \u001b[38;5;124;03m    Drop specified labels from rows or columns.\u001b[39;00m\n\u001b[0;32m   4819\u001b[0m \n\u001b[1;32m   (...)\u001b[0m\n\u001b[0;32m   4952\u001b[0m \u001b[38;5;124;03m            weight  1.0     0.8\u001b[39;00m\n\u001b[0;32m   4953\u001b[0m \u001b[38;5;124;03m    \"\"\"\u001b[39;00m\n\u001b[1;32m-> 4954\u001b[0m     \u001b[38;5;28;01mreturn\u001b[39;00m \u001b[38;5;28;43msuper\u001b[39;49m\u001b[43m(\u001b[49m\u001b[43m)\u001b[49m\u001b[38;5;241;43m.\u001b[39;49m\u001b[43mdrop\u001b[49m\u001b[43m(\u001b[49m\n\u001b[0;32m   4955\u001b[0m \u001b[43m        \u001b[49m\u001b[43mlabels\u001b[49m\u001b[38;5;241;43m=\u001b[39;49m\u001b[43mlabels\u001b[49m\u001b[43m,\u001b[49m\n\u001b[0;32m   4956\u001b[0m \u001b[43m        \u001b[49m\u001b[43maxis\u001b[49m\u001b[38;5;241;43m=\u001b[39;49m\u001b[43maxis\u001b[49m\u001b[43m,\u001b[49m\n\u001b[0;32m   4957\u001b[0m \u001b[43m        \u001b[49m\u001b[43mindex\u001b[49m\u001b[38;5;241;43m=\u001b[39;49m\u001b[43mindex\u001b[49m\u001b[43m,\u001b[49m\n\u001b[0;32m   4958\u001b[0m \u001b[43m        \u001b[49m\u001b[43mcolumns\u001b[49m\u001b[38;5;241;43m=\u001b[39;49m\u001b[43mcolumns\u001b[49m\u001b[43m,\u001b[49m\n\u001b[0;32m   4959\u001b[0m \u001b[43m        \u001b[49m\u001b[43mlevel\u001b[49m\u001b[38;5;241;43m=\u001b[39;49m\u001b[43mlevel\u001b[49m\u001b[43m,\u001b[49m\n\u001b[0;32m   4960\u001b[0m \u001b[43m        \u001b[49m\u001b[43minplace\u001b[49m\u001b[38;5;241;43m=\u001b[39;49m\u001b[43minplace\u001b[49m\u001b[43m,\u001b[49m\n\u001b[0;32m   4961\u001b[0m \u001b[43m        \u001b[49m\u001b[43merrors\u001b[49m\u001b[38;5;241;43m=\u001b[39;49m\u001b[43merrors\u001b[49m\u001b[43m,\u001b[49m\n\u001b[0;32m   4962\u001b[0m \u001b[43m    \u001b[49m\u001b[43m)\u001b[49m\n",
      "File \u001b[1;32m~\\AppData\\Local\\Programs\\Python\\Python310\\lib\\site-packages\\pandas\\core\\generic.py:4267\u001b[0m, in \u001b[0;36mNDFrame.drop\u001b[1;34m(self, labels, axis, index, columns, level, inplace, errors)\u001b[0m\n\u001b[0;32m   4265\u001b[0m \u001b[38;5;28;01mfor\u001b[39;00m axis, labels \u001b[38;5;129;01min\u001b[39;00m axes\u001b[38;5;241m.\u001b[39mitems():\n\u001b[0;32m   4266\u001b[0m     \u001b[38;5;28;01mif\u001b[39;00m labels \u001b[38;5;129;01mis\u001b[39;00m \u001b[38;5;129;01mnot\u001b[39;00m \u001b[38;5;28;01mNone\u001b[39;00m:\n\u001b[1;32m-> 4267\u001b[0m         obj \u001b[38;5;241m=\u001b[39m \u001b[43mobj\u001b[49m\u001b[38;5;241;43m.\u001b[39;49m\u001b[43m_drop_axis\u001b[49m\u001b[43m(\u001b[49m\u001b[43mlabels\u001b[49m\u001b[43m,\u001b[49m\u001b[43m \u001b[49m\u001b[43maxis\u001b[49m\u001b[43m,\u001b[49m\u001b[43m \u001b[49m\u001b[43mlevel\u001b[49m\u001b[38;5;241;43m=\u001b[39;49m\u001b[43mlevel\u001b[49m\u001b[43m,\u001b[49m\u001b[43m \u001b[49m\u001b[43merrors\u001b[49m\u001b[38;5;241;43m=\u001b[39;49m\u001b[43merrors\u001b[49m\u001b[43m)\u001b[49m\n\u001b[0;32m   4269\u001b[0m \u001b[38;5;28;01mif\u001b[39;00m inplace:\n\u001b[0;32m   4270\u001b[0m     \u001b[38;5;28mself\u001b[39m\u001b[38;5;241m.\u001b[39m_update_inplace(obj)\n",
      "File \u001b[1;32m~\\AppData\\Local\\Programs\\Python\\Python310\\lib\\site-packages\\pandas\\core\\generic.py:4311\u001b[0m, in \u001b[0;36mNDFrame._drop_axis\u001b[1;34m(self, labels, axis, level, errors, consolidate, only_slice)\u001b[0m\n\u001b[0;32m   4309\u001b[0m         new_axis \u001b[38;5;241m=\u001b[39m axis\u001b[38;5;241m.\u001b[39mdrop(labels, level\u001b[38;5;241m=\u001b[39mlevel, errors\u001b[38;5;241m=\u001b[39merrors)\n\u001b[0;32m   4310\u001b[0m     \u001b[38;5;28;01melse\u001b[39;00m:\n\u001b[1;32m-> 4311\u001b[0m         new_axis \u001b[38;5;241m=\u001b[39m \u001b[43maxis\u001b[49m\u001b[38;5;241;43m.\u001b[39;49m\u001b[43mdrop\u001b[49m\u001b[43m(\u001b[49m\u001b[43mlabels\u001b[49m\u001b[43m,\u001b[49m\u001b[43m \u001b[49m\u001b[43merrors\u001b[49m\u001b[38;5;241;43m=\u001b[39;49m\u001b[43merrors\u001b[49m\u001b[43m)\u001b[49m\n\u001b[0;32m   4312\u001b[0m     indexer \u001b[38;5;241m=\u001b[39m axis\u001b[38;5;241m.\u001b[39mget_indexer(new_axis)\n\u001b[0;32m   4314\u001b[0m \u001b[38;5;66;03m# Case for non-unique axis\u001b[39;00m\n\u001b[0;32m   4315\u001b[0m \u001b[38;5;28;01melse\u001b[39;00m:\n",
      "File \u001b[1;32m~\\AppData\\Local\\Programs\\Python\\Python310\\lib\\site-packages\\pandas\\core\\indexes\\base.py:6644\u001b[0m, in \u001b[0;36mIndex.drop\u001b[1;34m(self, labels, errors)\u001b[0m\n\u001b[0;32m   6642\u001b[0m \u001b[38;5;28;01mif\u001b[39;00m mask\u001b[38;5;241m.\u001b[39many():\n\u001b[0;32m   6643\u001b[0m     \u001b[38;5;28;01mif\u001b[39;00m errors \u001b[38;5;241m!=\u001b[39m \u001b[38;5;124m\"\u001b[39m\u001b[38;5;124mignore\u001b[39m\u001b[38;5;124m\"\u001b[39m:\n\u001b[1;32m-> 6644\u001b[0m         \u001b[38;5;28;01mraise\u001b[39;00m \u001b[38;5;167;01mKeyError\u001b[39;00m(\u001b[38;5;124mf\u001b[39m\u001b[38;5;124m\"\u001b[39m\u001b[38;5;132;01m{\u001b[39;00m\u001b[38;5;28mlist\u001b[39m(labels[mask])\u001b[38;5;132;01m}\u001b[39;00m\u001b[38;5;124m not found in axis\u001b[39m\u001b[38;5;124m\"\u001b[39m)\n\u001b[0;32m   6645\u001b[0m     indexer \u001b[38;5;241m=\u001b[39m indexer[\u001b[38;5;241m~\u001b[39mmask]\n\u001b[0;32m   6646\u001b[0m \u001b[38;5;28;01mreturn\u001b[39;00m \u001b[38;5;28mself\u001b[39m\u001b[38;5;241m.\u001b[39mdelete(indexer)\n",
      "\u001b[1;31mKeyError\u001b[0m: \"['dayofweekclaimed', 'monthclaimed', 'weekofmonthclaimed', 'days_policy_accident', 'basepolicy'] not found in axis\""
     ]
    }
   ],
   "source": [
    "df = df.drop(['dayofweekclaimed','monthclaimed', 'weekofmonthclaimed','days_policy_accident','basepolicy'], axis = 1)"
   ]
  },
  {
   "cell_type": "code",
   "execution_count": 294,
   "id": "2cbe6336",
   "metadata": {},
   "outputs": [
    {
     "data": {
      "text/plain": [
       "['monthh',\n",
       " 'make',\n",
       " 'accidentarea',\n",
       " 'fault',\n",
       " 'policytype',\n",
       " 'vehiclecategory',\n",
       " 'vehicleprice',\n",
       " 'days_policy_claim',\n",
       " 'pastnumberofclaims',\n",
       " 'ageofvehicle',\n",
       " 'ageofpolicyholder',\n",
       " 'policereportfiled',\n",
       " 'agenttype',\n",
       " 'numberofsuppliments',\n",
       " 'numberofcars']"
      ]
     },
     "execution_count": 294,
     "metadata": {},
     "output_type": "execute_result"
    }
   ],
   "source": [
    "# Creamos una lista de las variables categoricas\n",
    "df_categorial = df.select_dtypes(include=[\"object\"])\n",
    "categories = list(df_categorial.columns)\n",
    "categories"
   ]
  },
  {
   "cell_type": "code",
   "execution_count": 296,
   "id": "3bc70e18",
   "metadata": {},
   "outputs": [],
   "source": [
    "# Convertimos las variables categoricas en numéricas empleando LabelEncoder\n",
    "lb = LabelEncoder()\n",
    "\n",
    "for i in categories:\n",
    "    df[i] = lb.fit_transform(df[i])"
   ]
  },
  {
   "cell_type": "markdown",
   "id": "d604b4f4",
   "metadata": {},
   "source": [
    "### División del dataset en datos de entrenamiento y datos de test "
   ]
  },
  {
   "cell_type": "markdown",
   "id": "4c554c79",
   "metadata": {},
   "source": [
    "Se divide el dataset en datos en 80% datos de entrenamiento y 20% datos de prueba"
   ]
  },
  {
   "cell_type": "code",
   "execution_count": 297,
   "id": "148047c4",
   "metadata": {},
   "outputs": [],
   "source": [
    "X_train, X_test, y_train, y_test = train_test_split(df.drop(labels=['fraudfound_p', ], axis=1),df['fraudfound_p'], test_size=0.2, random_state=0)"
   ]
  },
  {
   "cell_type": "markdown",
   "id": "19dc0574",
   "metadata": {},
   "source": [
    "### Modelo: Árbol de clasificación"
   ]
  },
  {
   "cell_type": "code",
   "execution_count": 298,
   "id": "4fd5000e",
   "metadata": {},
   "outputs": [
    {
     "name": "stdout",
     "output_type": "stream",
     "text": [
      "Profundidad del árbol: 29\n",
      "Número de nodos terminales: 1415\n"
     ]
    }
   ],
   "source": [
    "model1 = tree.DecisionTreeClassifier()\n",
    "model1 = model1.fit(X_train,y_train)\n",
    "# predict with test attributes\n",
    "y_predict1 = model1.predict(X_test)\n",
    "\n",
    "fig, ax = plt.subplots(figsize=(12, 5))\n",
    "\n",
    "print(f\"Profundidad del árbol: {model1.get_depth()}\")\n",
    "print(f\"Número de nodos terminales: {model1.get_n_leaves()}\")\n",
    "\n",
    "plot = plot_tree(\n",
    "            decision_tree = model1,\n",
    "            feature_names = df.drop(columns = 'fraudfound_p').columns,\n",
    "            class_names   = 'class',\n",
    "            filled        = True,\n",
    "            impurity      = False,\n",
    "            fontsize      = 10,\n",
    "            precision     = 2,\n",
    "            ax            = ax\n",
    "       )"
   ]
  },
  {
   "cell_type": "markdown",
   "id": "f07a5d32",
   "metadata": {},
   "source": [
    "### Evaluación del modelo"
   ]
  },
  {
   "cell_type": "code",
   "execution_count": 306,
   "id": "c5bd23bf",
   "metadata": {},
   "outputs": [
    {
     "name": "stdout",
     "output_type": "stream",
     "text": [
      "[[5742   75]\n",
      " [  68  283]]\n",
      "              precision    recall  f1-score   support\n",
      "\n",
      "           0       0.99      0.99      0.99      5817\n",
      "           1       0.79      0.81      0.80       351\n",
      "\n",
      "    accuracy                           0.98      6168\n",
      "   macro avg       0.89      0.90      0.89      6168\n",
      "weighted avg       0.98      0.98      0.98      6168\n",
      "\n",
      "0.9768158236057068\n"
     ]
    }
   ],
   "source": [
    "print(confusion_matrix(y_test,y_predict1))\n",
    "print(classification_report(y_test,y_predict1))\n",
    "print(accuracy_score(y_test, y_predict1))"
   ]
  },
  {
   "cell_type": "code",
   "execution_count": 312,
   "id": "ba07a367",
   "metadata": {},
   "outputs": [],
   "source": [
    "# Random Forest Classifier\n",
    "from imblearn.ensemble import BalancedRandomForestClassifier\n",
    " \n",
    "from sklearn.metrics import classification_report\n",
    "from sklearn.metrics import confusion_matrix\n",
    "                 \n",
    "\n",
    "model2 = BalancedRandomForestClassifier(n_estimators = 100, random_state = 0)\n"
   ]
  },
  {
   "cell_type": "code",
   "execution_count": 314,
   "id": "4fa4d8d0",
   "metadata": {},
   "outputs": [
    {
     "name": "stdout",
     "output_type": "stream",
     "text": [
      "Training Accuracy:  0.778007457846952\n",
      "Testing Accuarcy:  0.7420557717250325\n",
      "[[4236 1581]\n",
      " [  10  341]]\n",
      "              precision    recall  f1-score   support\n",
      "\n",
      "           0       1.00      0.73      0.84      5817\n",
      "           1       0.18      0.97      0.30       351\n",
      "\n",
      "    accuracy                           0.74      6168\n",
      "   macro avg       0.59      0.85      0.57      6168\n",
      "weighted avg       0.95      0.74      0.81      6168\n",
      "\n"
     ]
    }
   ],
   "source": [
    "# fit model\n",
    "model2.fit(X_train,y_train)\n",
    "#predict\n",
    "y_predict2=model2.predict(X_test)\n",
    "\n",
    "print(\"Training Accuracy: \", model2.score(X_train, y_train))\n",
    "print('Testing Accuarcy: ', model2.score(X_test, y_test))\n",
    "print(confusion_matrix(y_test,y_predict2))\n",
    "print(classification_report(y_test,y_predict2))"
   ]
  },
  {
   "cell_type": "markdown",
   "id": "bdefe7f7",
   "metadata": {},
   "source": [
    "### Uso del modelo Random Forest Balanceado"
   ]
  },
  {
   "cell_type": "markdown",
   "id": "c987e639",
   "metadata": {},
   "source": [
    "+ Se selecionó el modelo Random Forest que es un algoritmo de aprendizaje supervisado y se balanceo para tener un mejor ajuste este modelo se utilizaría en el negocio dectectanto las posibles caracteristicas del denunciante que conlleven a clasificarlo como un posible fraude y así realizar una investigación más exahustiva del perfil. Adicional serviría para mejora de los motores de reglas, para ver cuáles se pueden mejorar y así poder retroalimentar mejor al modelo.\n",
    "+ Para medir la efectividad del modelo en el negocio, a parte de considerar el \"Accuarcy\", se debería implementar un piloto antes del despliegue para evaluar si se disminuyeron las perdidas por fraude frente a los periodos anteriores donde se tenía el modelo, se debe definir la rentabilidad de tener el modelo en produción.\n",
    "+ ##### Despliegue y producción: \n",
    "para obtener las predicciones de los nuevos registros se debe automatizar el proceso y para ello se podría integrar en una arquitectura como AWS donde se podra monitorizar y contar con la trazabilidad que permitá al modelo reentrenarse con los nuevos datos garantizando la estabilidad en la precisión."
   ]
  }
 ],
 "metadata": {
  "kernelspec": {
   "display_name": "Python 3 (ipykernel)",
   "language": "python",
   "name": "python3"
  },
  "language_info": {
   "codemirror_mode": {
    "name": "ipython",
    "version": 3
   },
   "file_extension": ".py",
   "mimetype": "text/x-python",
   "name": "python",
   "nbconvert_exporter": "python",
   "pygments_lexer": "ipython3",
   "version": "3.10.6"
  }
 },
 "nbformat": 4,
 "nbformat_minor": 5
}
